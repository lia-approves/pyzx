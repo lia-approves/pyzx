{
 "cells": [
  {
   "cell_type": "code",
   "execution_count": 1,
   "metadata": {},
   "outputs": [],
   "source": [
    "from qiskit import QuantumCircuit, QuantumRegister, ClassicalRegister, QiskitError\n",
    "#from qiskit import execute, BasicAer\n",
    "import qiskit.ignis.verification.randomized_benchmarking as rb\n",
    "#import qiskit.test.benchmarks.randomized_benchmarking as br\n",
    "import pyzx\n",
    "from pyzx.circuit.qasmparser import QASMParser\n",
    "from pyzx.circuit.qiskitqasmparser import QiskitQASMParser"
   ]
  },
  {
   "cell_type": "code",
   "execution_count": 55,
   "metadata": {},
   "outputs": [],
   "source": [
    "#qc = rb.randomized_benchmarking_seq()\n",
    "qc = rb.randomized_benchmarking_seq(nseeds=1, length_vector=None,\n",
    "                                rb_pattern=[[0,1]],\n",
    "                                length_multiplier=1, seed_offset=0,\n",
    "                                align_cliffs=False,\n",
    "                                interleaved_gates=None,\n",
    "                                is_purity=False)\n",
    "qc = qc[0][0][0]"
   ]
  },
  {
   "cell_type": "code",
   "execution_count": 56,
   "metadata": {},
   "outputs": [],
   "source": [
    "# setting up the backend\n",
    "# print(BasicAer.backends())\n",
    "\n",
    "# running the job\n",
    "# job_sim = execute(qc, BasicAer.get_backend('qasm_simulator'))\n",
    "# sim_result = job_sim.result()"
   ]
  },
  {
   "cell_type": "code",
   "execution_count": 57,
   "metadata": {
    "scrolled": true
   },
   "outputs": [],
   "source": [
    "# print(\"\\nPrint all gates:\")\n",
    "# [print(dat) for dat in qc.data]"
   ]
  },
  {
   "cell_type": "code",
   "execution_count": 58,
   "metadata": {
    "scrolled": false
   },
   "outputs": [
    {
     "name": "stdout",
     "output_type": "stream",
     "text": [
      "\n",
      "Print QASM:\n",
      "OPENQASM 2.0;\n",
      "include \"qelib1.inc\";\n",
      "qreg qr[2];\n",
      "creg cr[2];\n",
      "h qr[1];\n",
      "cx qr[0],qr[1];\n",
      "h qr[0];\n",
      "s qr[0];\n",
      "h qr[1];\n",
      "s qr[1];\n",
      "z qr[0];\n",
      "barrier qr[0],qr[1];\n",
      "z qr[0];\n",
      "sdg qr[1];\n",
      "h qr[1];\n",
      "sdg qr[0];\n",
      "h qr[0];\n",
      "cx qr[0],qr[1];\n",
      "h qr[1];\n",
      "measure qr[0] -> cr[0];\n",
      "measure qr[1] -> cr[1];\n",
      "\n"
     ]
    }
   ],
   "source": [
    "qasm = qc.qasm()\n",
    "### if you want to remove all barriers\n",
    "## qasm = '\\n'.join(['' if line.startswith(\"barrier\") else line for line in qasm.splitlines()])\n",
    "\n",
    "qc = qc.from_qasm_str(qasm)\n",
    "\n",
    "print(\"\\nPrint QASM:\")\n",
    "print(qasm)"
   ]
  },
  {
   "cell_type": "code",
   "execution_count": 59,
   "metadata": {},
   "outputs": [
    {
     "name": "stdout",
     "output_type": "stream",
     "text": [
      "                   ┌───┐┌───┐┌───┐ ░  ┌───┐ ┌─────┐┌───┐     ┌─┐        \n",
      "qr_0: |0>───────■──┤ H ├┤ S ├┤ Z ├─░──┤ Z ├─┤ Sdg ├┤ H ├──■──┤M├────────\n",
      "         ┌───┐┌─┴─┐├───┤├───┤└───┘ ░ ┌┴───┴┐└┬───┬┘└───┘┌─┴─┐└╥┘┌───┐┌─┐\n",
      "qr_1: |0>┤ H ├┤ X ├┤ H ├┤ S ├──────░─┤ Sdg ├─┤ H ├──────┤ X ├─╫─┤ H ├┤M├\n",
      "         └───┘└───┘└───┘└───┘      ░ └─────┘ └───┘      └───┘ ║ └───┘└╥┘\n",
      " cr_0: 0 ═════════════════════════════════════════════════════╩═══════╬═\n",
      "                                                                      ║ \n",
      " cr_1: 0 ═════════════════════════════════════════════════════════════╩═\n",
      "                                                                        \n"
     ]
    }
   ],
   "source": [
    "# Draw the circuit\n",
    "print(qc)"
   ]
  },
  {
   "cell_type": "code",
   "execution_count": 60,
   "metadata": {},
   "outputs": [
    {
     "name": "stdout",
     "output_type": "stream",
     "text": [
      "['qreg qr[2];', 'creg cr[2];', Circuit(2 qubits, 7 gates), 'barrier qr[0],qr[1];', Circuit(2 qubits, 7 gates), 'measure qr[0] -> cr[0];', 'measure qr[1] -> cr[1];']\n",
      "[2, 4]\n",
      "{'qr': (0, 2)}\n"
     ]
    }
   ],
   "source": [
    "p = QiskitQASMParser()\n",
    "circ_list, whichpyzx = p.qiskitparse(qasm)\n",
    "print(circ_list)\n",
    "print(whichpyzx)\n",
    "print(p.registers)"
   ]
  },
  {
   "cell_type": "code",
   "execution_count": 61,
   "metadata": {
    "scrolled": false
   },
   "outputs": [
    {
     "data": {
      "image/png": "[encoded data removed]",
      "text/plain": [
       "<Figure size 432x288 with 2 Axes>"
      ]
     },
     "execution_count": 61,
     "metadata": {},
     "output_type": "execute_result"
    }
   ],
   "source": [
    "#qasm = qc.decompose().qasm()\n",
    "pyzx.draw_many(circ_list, whichpyzx)"
   ]
  },
  {
   "cell_type": "code",
   "execution_count": 62,
   "metadata": {},
   "outputs": [
    {
     "data": {
      "image/png": "[encoded data removed]",
      "text/plain": [
       "<Figure size 432x288 with 2 Axes>"
      ]
     },
     "execution_count": 62,
     "metadata": {},
     "output_type": "execute_result"
    }
   ],
   "source": [
    "graph_list = [circ_list[w].to_graph() for w in whichpyzx]\n",
    "[pyzx.full_reduce(g) for g in graph_list]\n",
    "pyzx.draw_many(graph_list, range(len(whichpyzx)))"
   ]
  },
  {
   "cell_type": "code",
   "execution_count": 63,
   "metadata": {
    "scrolled": true
   },
   "outputs": [],
   "source": [
    "pyzx_circ_list = [pyzx.extract.streaming_extract(g) for g in graph_list]\n",
    "\n",
    "for i in range(len(pyzx_circ_list)):\n",
    "    prev = pyzx_circ_list[i]\n",
    "    next = pyzx.extract.streaming_extract(graph_list[i])\n",
    "    while prev.gates != next.gates:\n",
    "        for j in range(len(next.gates))[::-1]:\n",
    "            pyzx_circ_list[i].add_gate_to_front(next.gates[j])\n",
    "        prev = next\n",
    "        next = pyzx.extract.streaming_extract(graph_list[i])\n",
    "\n",
    "pyzx_circ_list = [pyzx.optimize.basic_optimization(new_c.to_basic_gates()) for new_c in pyzx_circ_list]\n",
    "\n",
    "pyzx_qasm = [new_c.to_basic_gates().to_qasm() for new_c in pyzx_circ_list]\n",
    "\n",
    "passedAll = True\n",
    "for i in range(len(pyzx_circ_list)):\n",
    "    try:\n",
    "        assert(pyzx.compare_tensors(pyzx_circ_list[i], circ_list[whichpyzx[i]]))\n",
    "    except AssertionError:\n",
    "        print(i)\n",
    "        print(circ_list[whichpyzx[i]].__dict__)\n",
    "        print(pyzx_circ_list[i].__dict__)\n",
    "        passedAll = False\n",
    "assert(passedAll)"
   ]
  },
  {
   "cell_type": "code",
   "execution_count": 64,
   "metadata": {},
   "outputs": [
    {
     "name": "stdout",
     "output_type": "stream",
     "text": [
      "\n",
      "rz(0.5*pi) q[1];\n",
      "cz q[0], q[1];\n",
      "h q[0];\n",
      "rz(1.5*pi) q[0];\n",
      "\n",
      "\n",
      "rz(0.5*pi) q[0];\n",
      "rz(1.5*pi) q[1];\n",
      "cx q[1], q[0];\n",
      "h q[0];\n",
      "\n"
     ]
    }
   ],
   "source": [
    "pyzx_qasm = [\"\\n\".join(['' if line.startswith(\"qreg\") else line for line in circ.splitlines()[2:]]) for circ in pyzx_qasm]\n",
    "\n",
    "for new_qasm in pyzx_qasm:\n",
    "    [print(line) for line in new_qasm.splitlines()]\n",
    "    print()"
   ]
  },
  {
   "cell_type": "code",
   "execution_count": 65,
   "metadata": {
    "scrolled": true
   },
   "outputs": [
    {
     "name": "stdout",
     "output_type": "stream",
     "text": [
      "OPENQASM 2.0;\n",
      "include \"qelib1.inc\";\n",
      "qreg qr[2];\n",
      "creg cr[2];\n",
      "\n",
      "rz(0.5*pi) qr[1];\n",
      "cz qr[0], qr[1];\n",
      "h qr[0];\n",
      "rz(1.5*pi) qr[0];\n",
      "barrier qr[0],qr[1];\n",
      "\n",
      "rz(0.5*pi) qr[0];\n",
      "rz(1.5*pi) qr[1];\n",
      "cx qr[1], qr[0];\n",
      "h qr[0];\n",
      "measure qr[0] -> cr[0];\n",
      "measure qr[1] -> cr[1];\n"
     ]
    }
   ],
   "source": [
    "#now we need to map registers and glue all the pieces back together\n",
    "for i in range(len(pyzx_qasm)):\n",
    "    circ_list[whichpyzx[i]] = pyzx_qasm[i]\n",
    "#print(circ_list)\n",
    "## join the\n",
    "qasm_string = 'OPENQASM 2.0;\\ninclude \"qelib1.inc\";\\n'+\"\\n\".join(circ_list)\n",
    "qasm_string = qasm_string.replace('q[', 'qr[')\n",
    "print(qasm_string)"
   ]
  },
  {
   "cell_type": "code",
   "execution_count": null,
   "metadata": {},
   "outputs": [],
   "source": []
  },
  {
   "cell_type": "code",
   "execution_count": 66,
   "metadata": {
    "scrolled": true
   },
   "outputs": [],
   "source": [
    "# pqsl = [line + \"\\n\" for line in pyzx_qasm] #took out .splitlines()\n",
    "# qsl = [line + \"\\n\" for line in qasm.splitlines()]\n",
    "# # print(pqsl)\n",
    "# # print(qsl)\n",
    "# new_qasm = '\\n'.join(qsl[0:4]) + ''.join(pqsl[3:]) + ''.join(qsl[-2:])\n",
    "# new_qasm = new_qasm.replace('q[', 'qr[')\n",
    "# print(new_qasm)"
   ]
  },
  {
   "cell_type": "code",
   "execution_count": 67,
   "metadata": {},
   "outputs": [
    {
     "name": "stdout",
     "output_type": "stream",
     "text": [
      "                          ┌───┐┌────────────┐ ░ ┌────────────┐┌───┐┌───┐┌─┐\n",
      "qr_0: |0>───────────────■─┤ H ├┤ Rz(1.5*pi) ├─░─┤ Rz(0.5*pi) ├┤ X ├┤ H ├┤M├\n",
      "         ┌────────────┐ │ └───┘└────────────┘ ░ ├────────────┤└─┬─┘└┬─┬┘└╥┘\n",
      "qr_1: |0>┤ Rz(0.5*pi) ├─■─────────────────────░─┤ Rz(1.5*pi) ├──■───┤M├──╫─\n",
      "         └────────────┘                       ░ └────────────┘      └╥┘  ║ \n",
      " cr_0: 0 ════════════════════════════════════════════════════════════╬═══╩═\n",
      "                                                                     ║     \n",
      " cr_1: 0 ════════════════════════════════════════════════════════════╩═════\n",
      "                                                                           \n"
     ]
    }
   ],
   "source": [
    "new_qc = qc.from_qasm_str(qasm_string)\n",
    "print(new_qc)"
   ]
  },
  {
   "cell_type": "code",
   "execution_count": 68,
   "metadata": {},
   "outputs": [
    {
     "name": "stdout",
     "output_type": "stream",
     "text": [
      "                   ┌───┐┌───┐┌───┐ ░  ┌───┐ ┌─────┐┌───┐     ┌─┐        \n",
      "qr_0: |0>───────■──┤ H ├┤ S ├┤ Z ├─░──┤ Z ├─┤ Sdg ├┤ H ├──■──┤M├────────\n",
      "         ┌───┐┌─┴─┐├───┤├───┤└───┘ ░ ┌┴───┴┐└┬───┬┘└───┘┌─┴─┐└╥┘┌───┐┌─┐\n",
      "qr_1: |0>┤ H ├┤ X ├┤ H ├┤ S ├──────░─┤ Sdg ├─┤ H ├──────┤ X ├─╫─┤ H ├┤M├\n",
      "         └───┘└───┘└───┘└───┘      ░ └─────┘ └───┘      └───┘ ║ └───┘└╥┘\n",
      " cr_0: 0 ═════════════════════════════════════════════════════╩═══════╬═\n",
      "                                                                      ║ \n",
      " cr_1: 0 ═════════════════════════════════════════════════════════════╩═\n",
      "                                                                        \n"
     ]
    }
   ],
   "source": [
    "print(qc)"
   ]
  },
  {
   "cell_type": "code",
   "execution_count": 69,
   "metadata": {},
   "outputs": [],
   "source": [
    "import qiskit\n",
    "from qiskit.providers.basicaer import QasmSimulatorPy\n",
    "c1 = qiskit.execute(qc, QasmSimulatorPy()).result().get_counts()\n",
    "c2 = qiskit.execute(new_qc, QasmSimulatorPy()).result().get_counts()"
   ]
  },
  {
   "cell_type": "code",
   "execution_count": 70,
   "metadata": {},
   "outputs": [
    {
     "data": {
      "text/plain": [
       "{'00': 1024}"
      ]
     },
     "execution_count": 70,
     "metadata": {},
     "output_type": "execute_result"
    }
   ],
   "source": [
    "c1"
   ]
  },
  {
   "cell_type": "code",
   "execution_count": 71,
   "metadata": {},
   "outputs": [
    {
     "data": {
      "text/plain": [
       "{'00': 1024}"
      ]
     },
     "execution_count": 71,
     "metadata": {},
     "output_type": "execute_result"
    }
   ],
   "source": [
    "c2"
   ]
  },
  {
   "cell_type": "code",
   "execution_count": 72,
   "metadata": {},
   "outputs": [],
   "source": [
    "assert(c1 == c2)"
   ]
  },
  {
   "cell_type": "code",
   "execution_count": 73,
   "metadata": {},
   "outputs": [
    {
     "data": {
      "text/plain": [
       "11"
      ]
     },
     "execution_count": 73,
     "metadata": {},
     "output_type": "execute_result"
    }
   ],
   "source": [
    "qc.depth()"
   ]
  },
  {
   "cell_type": "code",
   "execution_count": 74,
   "metadata": {},
   "outputs": [
    {
     "data": {
      "text/plain": [
       "16"
      ]
     },
     "execution_count": 74,
     "metadata": {},
     "output_type": "execute_result"
    }
   ],
   "source": [
    "qc.size()"
   ]
  },
  {
   "cell_type": "code",
   "execution_count": 75,
   "metadata": {},
   "outputs": [
    {
     "data": {
      "text/plain": [
       "8"
      ]
     },
     "execution_count": 75,
     "metadata": {},
     "output_type": "execute_result"
    }
   ],
   "source": [
    "new_qc.depth()"
   ]
  },
  {
   "cell_type": "code",
   "execution_count": 76,
   "metadata": {},
   "outputs": [
    {
     "data": {
      "text/plain": [
       "10"
      ]
     },
     "execution_count": 76,
     "metadata": {},
     "output_type": "execute_result"
    }
   ],
   "source": [
    "new_qc.size()"
   ]
  },
  {
   "cell_type": "code",
   "execution_count": 91,
   "metadata": {},
   "outputs": [],
   "source": [
    "qiskit_transpiled_qc = qiskit.transpile(qc, basis_gates=['u3', 'cx'], optimization_level=2)"
   ]
  },
  {
   "cell_type": "code",
   "execution_count": 92,
   "metadata": {},
   "outputs": [
    {
     "name": "stdout",
     "output_type": "stream",
     "text": [
      "                          ┌───────────────────┐ ░ ┌─────────────┐     ┌─┐»\n",
      "qr_0: |0>──────────────■──┤ U3(pi/2,-pi/2,pi) ├─░─┤ U2(0,3pi/2) ├──■──┤M├»\n",
      "         ┌──────────┐┌─┴─┐└┬──────────────────┤ ░ └┬────────────┤┌─┴─┐└╥┘»\n",
      "qr_1: |0>┤ U2(0,pi) ├┤ X ├─┤ U3(pi/2,pi/2,pi) ├─░──┤ U2(0,pi/2) ├┤ X ├─╫─»\n",
      "         └──────────┘└───┘ └──────────────────┘ ░  └────────────┘└───┘ ║ »\n",
      " cr_0: 0 ══════════════════════════════════════════════════════════════╩═»\n",
      "                                                                         »\n",
      " cr_1: 0 ════════════════════════════════════════════════════════════════»\n",
      "                                                                         »\n",
      "«                     \n",
      "«qr_0: ───────────────\n",
      "«      ┌──────────┐┌─┐\n",
      "«qr_1: ┤ U2(0,pi) ├┤M├\n",
      "«      └──────────┘└╥┘\n",
      "«cr_0: ═════════════╬═\n",
      "«                   ║ \n",
      "«cr_1: ═════════════╩═\n",
      "«                     \n"
     ]
    }
   ],
   "source": [
    "print(qiskit_transpiled_qc)"
   ]
  },
  {
   "cell_type": "code",
   "execution_count": 93,
   "metadata": {},
   "outputs": [
    {
     "data": {
      "text/plain": [
       "7"
      ]
     },
     "execution_count": 93,
     "metadata": {},
     "output_type": "execute_result"
    }
   ],
   "source": [
    "qiskit_transpiled_qc.depth()"
   ]
  },
  {
   "cell_type": "code",
   "execution_count": 94,
   "metadata": {},
   "outputs": [
    {
     "data": {
      "text/plain": [
       "10"
      ]
     },
     "execution_count": 94,
     "metadata": {},
     "output_type": "execute_result"
    }
   ],
   "source": [
    "qiskit_transpiled_qc.size()"
   ]
  },
  {
   "cell_type": "code",
   "execution_count": 95,
   "metadata": {},
   "outputs": [
    {
     "name": "stdout",
     "output_type": "stream",
     "text": [
      "                             ┌───────────────────┐ ░  ┌──────────┐┌───┐»\n",
      "qr_0: |0>─────────────────■──┤ U3(pi/2,-pi/2,pi) ├─░──┤ U1(pi/2) ├┤ X ├»\n",
      "         ┌─────────────┐┌─┴─┐└────┬──────────┬───┘ ░ ┌┴──────────┤└─┬─┘»\n",
      "qr_1: |0>┤ U2(0,3pi/2) ├┤ X ├─────┤ U2(0,pi) ├─────░─┤ U1(3pi/2) ├──■──»\n",
      "         └─────────────┘└───┘     └──────────┘     ░ └───────────┘     »\n",
      " cr_0: 0 ══════════════════════════════════════════════════════════════»\n",
      "                                                                       »\n",
      " cr_1: 0 ══════════════════════════════════════════════════════════════»\n",
      "                                                                       »\n",
      "«      ┌──────────┐┌─┐\n",
      "«qr_0: ┤ U2(0,pi) ├┤M├\n",
      "«      └───┬─┬────┘└╥┘\n",
      "«qr_1: ────┤M├──────╫─\n",
      "«          └╥┘      ║ \n",
      "«cr_0: ═════╬═══════╩═\n",
      "«           ║         \n",
      "«cr_1: ═════╩═════════\n",
      "«                     \n"
     ]
    }
   ],
   "source": [
    "pyzx_then_qiskit_qc = qiskit.transpile(new_qc, basis_gates=['u3', 'cx'], optimization_level=2)\n",
    "print(pyzx_then_qiskit_qc)"
   ]
  },
  {
   "cell_type": "code",
   "execution_count": 96,
   "metadata": {},
   "outputs": [
    {
     "data": {
      "text/plain": [
       "7"
      ]
     },
     "execution_count": 96,
     "metadata": {},
     "output_type": "execute_result"
    }
   ],
   "source": [
    "pyzx_then_qiskit_qc.depth()"
   ]
  },
  {
   "cell_type": "code",
   "execution_count": 97,
   "metadata": {},
   "outputs": [
    {
     "data": {
      "text/plain": [
       "10"
      ]
     },
     "execution_count": 97,
     "metadata": {},
     "output_type": "execute_result"
    }
   ],
   "source": [
    "pyzx_then_qiskit_qc.size()"
   ]
  },
  {
   "cell_type": "code",
   "execution_count": 98,
   "metadata": {},
   "outputs": [
    {
     "data": {
      "text/plain": [
       "{'00': 1024}"
      ]
     },
     "execution_count": 98,
     "metadata": {},
     "output_type": "execute_result"
    }
   ],
   "source": [
    "c3 = qiskit.execute(qiskit_transpiled_qc, QasmSimulatorPy()).result().get_counts()\n",
    "c4 = qiskit.execute(pyzx_then_qiskit_qc, QasmSimulatorPy()).result().get_counts()\n",
    "c3"
   ]
  },
  {
   "cell_type": "code",
   "execution_count": 85,
   "metadata": {},
   "outputs": [
    {
     "data": {
      "text/plain": [
       "{'00': 1024}"
      ]
     },
     "execution_count": 85,
     "metadata": {},
     "output_type": "execute_result"
    }
   ],
   "source": [
    "c4"
   ]
  },
  {
   "cell_type": "code",
   "execution_count": 150,
   "metadata": {},
   "outputs": [
    {
     "name": "stdout",
     "output_type": "stream",
     "text": [
      "{'QC_Original': {'Depth': 11, 'Size': 16}, 'QC_pyZX': {'Depth': 8, 'Size': 10}, 'QC_QiskitTranspiler': {'Depth': 7, 'Size': 10}, 'QC_Both': {'Depth': 7, 'Size': 10}}\n"
     ]
    }
   ],
   "source": [
    "AllCircuits = {\"QC_Original\": qc, \"QC_pyZX\": new_qc, \"QC_QiskitTranspiler\": qiskit_transpiled_qc, \"QC_Both\": pyzx_then_qiskit_qc}\n",
    "OutputDict = {}\n",
    "\n",
    "if passedAll == False:\n",
    "    print(\"reject this sample\")\n",
    "else:\n",
    "    for key, value in AllCircuits.items():\n",
    "        OutputDict[key]= {\"Depth\":value.depth(), \"Size\":value.size()}\n",
    "    Metrics = [\"Depth\", \"Size\"]\n",
    "print(OutputDict)\n"
   ]
  },
  {
   "cell_type": "code",
   "execution_count": 151,
   "metadata": {},
   "outputs": [],
   "source": [
    "##import matplotlib.pyplot as plt; plt.rcdefaults()\n",
    "import numpy as np\n",
    "import matplotlib.pyplot as plt"
   ]
  },
  {
   "cell_type": "code",
   "execution_count": 154,
   "metadata": {},
   "outputs": [
    {
     "data": {
      "image/png": "[encoded data removed]",
      "text/plain": [
       "<Figure size 640x480 with 1 Axes>"
      ]
     },
     "metadata": {},
     "output_type": "display_data"
    },
    {
     "data": {
      "image/png": "[encoded data removed]",
      "text/plain": [
       "<Figure size 640x480 with 1 Axes>"
      ]
     },
     "metadata": {},
     "output_type": "display_data"
    }
   ],
   "source": [
    "for metric in Metrics:\n",
    "    plt.title(\"Random Circuit \" + metric)\n",
    "    plt.bar(range(len(AllCircuits)), [OutputDict[circ][Metric] for circ in AllCircuits] , \n",
    "            align='center', color = [\"xkcd:robin's egg blue\", \"xkcd:cerise\", \"xkcd:tangerine\", \"xkcd:heliotrope\"])\n",
    "    plt.xticks(range(len(AllCircuits)), list(AllCircuits.keys()))\n",
    "    plt.xlabel(\"Circuit Optimization Type\")\n",
    "    plt.ylabel(metric)\n",
    "    plt.show()"
   ]
  },
  {
   "cell_type": "code",
   "execution_count": null,
   "metadata": {},
   "outputs": [],
   "source": []
  }
 ],
 "metadata": {
  "kernelspec": {
   "display_name": "Python 3",
   "language": "python",
   "name": "python3"
  },
  "language_info": {
   "codemirror_mode": {
    "name": "ipython",
    "version": 3
   },
   "file_extension": ".py",
   "mimetype": "text/x-python",
   "name": "python",
   "nbconvert_exporter": "python",
   "pygments_lexer": "ipython3",
   "version": "3.7.3"
  }
 },
 "nbformat": 4,
 "nbformat_minor": 2
}
